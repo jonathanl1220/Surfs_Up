{
 "cells": [
  {
   "cell_type": "code",
   "execution_count": 2,
   "metadata": {},
   "outputs": [],
   "source": [
    "import requests\n",
    "from bs4 import BeautifulSoup\n",
    "import pandas as pd\n",
    "import numpy as np\n",
    "import matplotlib.pyplot as plt\n",
    "import seaborn as sns\n",
    "from datetime import *\n",
    "from sklearn.metrics.pairwise import cosine_similarity\n",
    "from sklearn.preprocessing import StandardScaler\n",
    "from flask import jsonify\n",
    "import pickle\n"
   ]
  },
  {
   "cell_type": "code",
   "execution_count": 3,
   "metadata": {},
   "outputs": [],
   "source": [
    "surf = pd.read_csv('/Users/victorialendof/Desktop/Jonathan/Galvanize/Capstones/Capstone3/surf_spots.csv')"
   ]
  },
  {
   "cell_type": "code",
   "execution_count": 4,
   "metadata": {},
   "outputs": [],
   "source": [
    "link = surf.link"
   ]
  },
  {
   "cell_type": "code",
   "execution_count": 5,
   "metadata": {},
   "outputs": [],
   "source": [
    "img_link = surf['img link']"
   ]
  },
  {
   "cell_type": "code",
   "execution_count": 6,
   "metadata": {},
   "outputs": [],
   "source": [
    "soups = []\n",
    "request = []"
   ]
  },
  {
   "cell_type": "code",
   "execution_count": 7,
   "metadata": {},
   "outputs": [],
   "source": [
    "surf_hieght =[]\n",
    "tide_hieght = []\n",
    "wind = []\n",
    "temp = []\n",
    "water_temp = []\n"
   ]
  },
  {
   "cell_type": "code",
   "execution_count": null,
   "metadata": {},
   "outputs": [],
   "source": [
    "for elem in link:\n",
    "    request.append(requests.get(elem))"
   ]
  },
  {
   "cell_type": "code",
   "execution_count": null,
   "metadata": {},
   "outputs": [],
   "source": [
    "for elem in request:\n",
    "    soups.append(BeautifulSoup(elem.text, 'html.parser'))\n",
    "    "
   ]
  },
  {
   "cell_type": "code",
   "execution_count": null,
   "metadata": {},
   "outputs": [],
   "source": [
    "for elem in soups:\n",
    "    surf_hieght.append(elem.find('span',{'class': 'quiver-surf-height'} ).text)\n",
    "    tide_hieght.append(elem.find('span',{'class': 'quiver-reading'}).text)\n",
    "    wind.append(elem.findAll('span',{'class': 'quiver-reading'})[1].text)\n",
    "    water_temp.append(elem.find('div',{'class': 'quiver-water-temp'}).text)\n",
    "    temp.append(elem.find('div',{'class': 'quiver-weather-stats'}).text)"
   ]
  },
  {
   "cell_type": "code",
   "execution_count": null,
   "metadata": {},
   "outputs": [],
   "source": [
    "surf_hieght1 = []\n",
    "for elem in surf_hieght:\n",
    "    if len(elem) < 7:\n",
    "        surf_hieght1.append(elem[2:-2])\n",
    "    else:\n",
    "        surf_hieght1.append(elem[3:-2])\n",
    "surf_hieght2=[]\n",
    "for elem in surf_hieght1:\n",
    "    surf_hieght2.append(elem.replace('-',''))\n",
    "        \n",
    "\n",
    "surf_hieght = []\n",
    "\n",
    "for elem in surf_hieght2:\n",
    "    surf_hieght.append(int(elem))\n"
   ]
  },
  {
   "cell_type": "code",
   "execution_count": null,
   "metadata": {},
   "outputs": [],
   "source": [
    "tide_hieght = map(lambda x: float(x[:-2]), tide_hieght)\n",
    "wind = map(lambda x: int(x[:-3]), wind)\n",
    "water_temp = map(lambda x: int(x[15:-3]), water_temp)\n",
    "temp  = map(lambda x: int(x[7:-3]), temp )\n"
   ]
  },
  {
   "cell_type": "code",
   "execution_count": null,
   "metadata": {},
   "outputs": [],
   "source": [
    "tide_hieght = list(tide_hieght)\n",
    "wind = list(wind)\n",
    "water_temp = list(water_temp)\n",
    "temp = list(temp)"
   ]
  },
  {
   "cell_type": "code",
   "execution_count": null,
   "metadata": {},
   "outputs": [],
   "source": [
    "surf['surf height ft'] = surf_hieght\n",
    "surf['tide height ft'] = tide_hieght\n",
    "surf['wind kts'] = wind\n",
    "surf['water temp f'] = water_temp\n",
    "surf['temp f'] = temp"
   ]
  },
  {
   "cell_type": "code",
   "execution_count": null,
   "metadata": {},
   "outputs": [],
   "source": [
    "surf"
   ]
  },
  {
   "cell_type": "code",
   "execution_count": null,
   "metadata": {},
   "outputs": [],
   "source": [
    "surf = surf.drop(columns=['link'])"
   ]
  },
  {
   "cell_type": "code",
   "execution_count": null,
   "metadata": {},
   "outputs": [],
   "source": [
    "surf = surf.drop(columns=['img link'])"
   ]
  },
  {
   "cell_type": "code",
   "execution_count": null,
   "metadata": {},
   "outputs": [],
   "source": [
    "surf_count = surf.groupby('region').count().sort_values(by= 'surfspot').reset_index()"
   ]
  },
  {
   "cell_type": "code",
   "execution_count": null,
   "metadata": {},
   "outputs": [],
   "source": [
    "difficulty = surf.groupby('region').mean().sort_values(by= 'difficulty').reset_index()"
   ]
  },
  {
   "cell_type": "code",
   "execution_count": null,
   "metadata": {},
   "outputs": [],
   "source": [
    "fig = plt.figure()\n",
    "ax = fig.add_axes([0,0,1,1])\n",
    "blah = surf_count['surfspot']\n",
    "blahh = surf_count['region']\n",
    "ax.barh(blahh,blah)\n",
    "ax.set_title('Surfspots per County')\n",
    "ax.set_ylabel('Counties')\n",
    "plt.show()"
   ]
  },
  {
   "cell_type": "code",
   "execution_count": null,
   "metadata": {},
   "outputs": [],
   "source": [
    "fig = plt.figure()\n",
    "ax = fig.add_axes([0,0,1,1])\n",
    "ax.barh(difficulty['region'],difficulty['difficulty'])\n",
    "ax.set_title('Average Difficulty by Region')\n",
    "ax.set_ylabel('Counties')\n",
    "plt.show()"
   ]
  },
  {
   "cell_type": "code",
   "execution_count": null,
   "metadata": {},
   "outputs": [],
   "source": [
    "fig = plt.figure()\n",
    "ax = fig.add_axes([0,0,1,1])\n",
    "ax.barh(difficulty['region'],difficulty['water temp f'])\n",
    "ax.set_title('Average Temp by Region')\n",
    "ax.set_ylabel('Counties')\n",
    "plt.show()"
   ]
  },
  {
   "cell_type": "code",
   "execution_count": null,
   "metadata": {},
   "outputs": [],
   "source": [
    "features = ['crowds',\n",
    "            'difficulty',\n",
    "            'surf height ft',\n",
    "            'tide height ft',\n",
    "            'wind kts',\n",
    "            'water temp f',\n",
    "            'temp f'    \n",
    "]"
   ]
  },
  {
   "cell_type": "code",
   "execution_count": null,
   "metadata": {},
   "outputs": [],
   "source": [
    "X = surf[features].values"
   ]
  },
  {
   "cell_type": "code",
   "execution_count": null,
   "metadata": {},
   "outputs": [],
   "source": [
    "ss = StandardScaler()\n",
    "X = ss.fit_transform(X)"
   ]
  },
  {
   "cell_type": "code",
   "execution_count": null,
   "metadata": {},
   "outputs": [],
   "source": [
    "def cos_sim_recommendations(surfspot, region_name, n=5, region=None):\n",
    "    index = surf.index[(surf['surfspot'] == surfspot) & (surf['region'] == region_name)][0]\n",
    "    spots = X[index].reshape(1,-1)\n",
    "    cs = cosine_similarity(spots, X)\n",
    "    rec_index = np.argsort(cs)[0][::-1]\n",
    "    ordered_df = surf.loc[rec_index]\n",
    "    ordered_df = ordered_df.drop(index)\n",
    "    \n",
    "    if region:\n",
    "        ordered_df = ordered_df[ordered_df['region'] == region]\n",
    "    rec_df = ordered_df.head(n)\n",
    "    orig_row = surf.loc[[index]].rename(lambda x: 'original')\n",
    "    total = pd.concat((orig_row,rec_df))\n",
    "    \n",
    "    return total\n"
   ]
  },
  {
   "cell_type": "code",
   "execution_count": null,
   "metadata": {},
   "outputs": [],
   "source": [
    "cos_sim_recommendations('PB Point', 'San Diego', )"
   ]
  },
  {
   "cell_type": "code",
   "execution_count": null,
   "metadata": {},
   "outputs": [],
   "source": [
    "time = datetime.today()"
   ]
  },
  {
   "cell_type": "code",
   "execution_count": null,
   "metadata": {},
   "outputs": [],
   "source": [
    "now =datetime.now()"
   ]
  },
  {
   "cell_type": "code",
   "execution_count": null,
   "metadata": {},
   "outputs": [],
   "source": [
    "dt_string = now.strftime(\"%d/%m/%Y %H:%M:%S\")"
   ]
  },
  {
   "cell_type": "code",
   "execution_count": null,
   "metadata": {},
   "outputs": [],
   "source": [
    "d3 = time.strftime(\"%m/%d/%y\")"
   ]
  },
  {
   "cell_type": "code",
   "execution_count": null,
   "metadata": {},
   "outputs": [],
   "source": [
    "d3 = d3.replace('/','_')"
   ]
  },
  {
   "cell_type": "code",
   "execution_count": null,
   "metadata": {},
   "outputs": [],
   "source": [
    "if int(dt_string[14:-3]) < 12:\n",
    "    surf.to_csv(f'surf_{d3}am.csv',index=False)\n",
    "else:\n",
    "    surf.to_csv(f'surf_{d3}pm.csv',index=False)"
   ]
  },
  {
   "cell_type": "code",
   "execution_count": 468,
   "metadata": {},
   "outputs": [],
   "source": [
    "link.to_pickle('links.pkl')"
   ]
  },
  {
   "cell_type": "code",
   "execution_count": 467,
   "metadata": {},
   "outputs": [],
   "source": [
    "img_link.to_pickle('img_link.pkl')"
   ]
  },
  {
   "cell_type": "code",
   "execution_count": 522,
   "metadata": {},
   "outputs": [],
   "source": [
    "link_df.to_pickle('link.pkl')"
   ]
  }
 ],
 "metadata": {
  "kernelspec": {
   "display_name": "Python 3",
   "language": "python",
   "name": "python3"
  },
  "language_info": {
   "codemirror_mode": {
    "name": "ipython",
    "version": 3
   },
   "file_extension": ".py",
   "mimetype": "text/x-python",
   "name": "python",
   "nbconvert_exporter": "python",
   "pygments_lexer": "ipython3",
   "version": "3.7.9"
  }
 },
 "nbformat": 4,
 "nbformat_minor": 4
}
